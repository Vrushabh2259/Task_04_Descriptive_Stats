{
 "cells": [
  {
   "cell_type": "code",
   "execution_count": 1,
   "id": "0cb915ea-bcbf-437e-b064-fef570c24b9e",
   "metadata": {},
   "outputs": [
    {
     "name": "stdout",
     "output_type": "stream",
     "text": [
      "Defaulting to user installation because normal site-packages is not writeable\n",
      "Requirement already satisfied: polars in c:\\users\\vrush\\appdata\\roaming\\python\\python313\\site-packages (1.31.0)\n",
      "Requirement already satisfied: tabulate in c:\\programdata\\anaconda3\\lib\\site-packages (0.9.0)\n"
     ]
    }
   ],
   "source": [
    "!pip install polars tabulate\n"
   ]
  },
  {
   "cell_type": "code",
   "execution_count": 2,
   "id": "5ff4d818-ee2f-46af-9923-ddeccaae4784",
   "metadata": {},
   "outputs": [
    {
     "name": "stdout",
     "output_type": "stream",
     "text": [
      "1.31.0\n",
      "✅ Polars + tabulate installed OK!\n"
     ]
    }
   ],
   "source": [
    "import polars as pl\n",
    "from tabulate import tabulate\n",
    "\n",
    "print(pl.__version__)\n",
    "print(\"✅ Polars + tabulate installed OK!\")\n"
   ]
  },
  {
   "cell_type": "code",
   "execution_count": 3,
   "id": "82b5d04b-abf3-4792-9916-724e1f827adf",
   "metadata": {},
   "outputs": [],
   "source": [
    "\"\"\"\n",
    "polars_stats_2024_fb_ads_president_scored_anon.py\n",
    "Clean descriptive statistics with Polars for 2024_fb_ads_president_scored_anon.csv\n",
    "Outputs ONLY to polars_stats_output.txt\n",
    "\"\"\"\n",
    "\n",
    "import polars as pl\n",
    "import sys\n",
    "\n",
    "\n",
    "filepath = r'C:\\Users\\vrush\\Music\\RA\\period_03\\2024_fb_ads_president_scored_anon.csv'\n",
    "output_path = 'Output_polars_fb_ads_presidents.txt'\n",
    "\n",
    "def print_section(title):\n",
    "    print(f\"\\n{'='*10} {title} {'='*10}\")\n",
    "\n",
    "def main():\n",
    "    with open(output_path, 'w', encoding='utf-8') as f:\n",
    "        sys.stdout = f\n",
    "\n",
    "        \n",
    "        df = pl.read_csv(filepath)\n",
    "\n",
    "        # Try to cast likely numeric columns if needed\n",
    "        numeric_cols = [\"estimated_audience_size\", \"estimated_impressions\", \"estimated_spend\"]\n",
    "        df = df.with_columns([\n",
    "            pl.col(col).cast(pl.Float64, strict=False) for col in numeric_cols if col in df.columns\n",
    "        ])\n",
    "\n",
    "        \n",
    "        print_section('Header')\n",
    "        print('Header:', df.columns)\n",
    "\n",
    "        \n",
    "        print_section('Descriptive Statistics for Entire Dataset')\n",
    "        print(df.describe())\n",
    "\n",
    "        \n",
    "        print_section('Value Counts for Non-Numeric Columns (Top 3)')\n",
    "        for col in df.columns:\n",
    "            if df[col].dtype == pl.Utf8:\n",
    "                top_values = df.group_by(col).len().sort('len', descending=True).head(3)\n",
    "                print(f\"\\nTop 3 for {col}:\")\n",
    "                print(top_values)\n",
    "\n",
    "        \n",
    "        print_section('Grouped by page_id (First 3 Groups)')\n",
    "        unique_page_ids = df.select('page_id').unique().to_series().to_list()\n",
    "        for page_id in unique_page_ids[:3]:\n",
    "            group = df.filter(pl.col('page_id') == page_id)\n",
    "            print(f\"\\nGroup: page_id={page_id} (Count: {group.height})\")\n",
    "            print(group.describe())\n",
    "\n",
    "        \n",
    "        print_section('Grouped by page_id and ad_id (First 3 Groups)')\n",
    "        unique_combos = df.select(['page_id', 'ad_id']).unique().rows()\n",
    "        for page_id, ad_id in unique_combos[:3]:\n",
    "            group = df.filter((pl.col('page_id') == page_id) & (pl.col('ad_id') == ad_id))\n",
    "            print(f\"\\nGroup: page_id={page_id}, ad_id={ad_id} (Count: {group.height})\")\n",
    "            print(group.describe())\n",
    "\n",
    "        print_section('Script Completed')\n",
    "        print('All Polars stats written to file. No output in notebook.')\n",
    "\n",
    "        sys.stdout = sys.__stdout__  # Reset\n",
    "\n",
    "if __name__ == \"__main__\":\n",
    "    main()\n"
   ]
  },
  {
   "cell_type": "code",
   "execution_count": null,
   "id": "df3ce5c4-1b8f-48a9-9d1d-3028a63dfc4c",
   "metadata": {},
   "outputs": [],
   "source": []
  },
  {
   "cell_type": "code",
   "execution_count": null,
   "id": "1b855a58-12c3-4ab1-92d4-a15b75d1efc5",
   "metadata": {},
   "outputs": [],
   "source": []
  },
  {
   "cell_type": "code",
   "execution_count": null,
   "id": "3e7d6279-3a4b-4262-b899-cee5405a5fbc",
   "metadata": {},
   "outputs": [],
   "source": []
  }
 ],
 "metadata": {
  "kernelspec": {
   "display_name": "Python 3 (ipykernel)",
   "language": "python",
   "name": "python3"
  },
  "language_info": {
   "codemirror_mode": {
    "name": "ipython",
    "version": 3
   },
   "file_extension": ".py",
   "mimetype": "text/x-python",
   "name": "python",
   "nbconvert_exporter": "python",
   "pygments_lexer": "ipython3",
   "version": "3.13.5"
  }
 },
 "nbformat": 4,
 "nbformat_minor": 5
}
